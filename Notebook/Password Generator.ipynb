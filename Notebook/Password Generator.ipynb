{
 "cells": [
  {
   "cell_type": "code",
   "execution_count": null,
   "metadata": {},
   "outputs": [],
   "source": [
    "#Password Generator"
   ]
  },
  {
   "cell_type": "code",
   "execution_count": null,
   "metadata": {},
   "outputs": [],
   "source": [
    "import random\n",
    "level1=\"abcdefghijklmnopqrstuvwxyz\"\n",
    "level2=\"abcdefghijklmnopqrstuvwxyz0123456789\"\n",
    "level3=\"abcdefghijklmnopqrstuvwxyz0123456789ABCDEFGHIJKLMNOPQRSTUVWXYZ\"\n",
    "level4=\"abcdefghijklmnopqrstuvwxyz0123456789ABCDEFGHIJKLMNOPQRSTUVWXYZ!@#$%^&*()?\"\n",
    "lenght = int(input('How long password do you need? :'))\n",
    "levelchoice=input('Which level of password do you want ?: \\nlevel1 - low letters \\nlevel2 - low letters + numbers\\nlevel3 - low/high letters + numbers \\nlevel4 - low/high letters + numbers + special signs')\n",
    "def passgen():\n",
    "    \n",
    "    if levelchoice =='level1':\n",
    "        p =  \"\".join(random.sample(level1,lenght ))\n",
    "        print(p)\n",
    "    elif levelchoice =='level2':\n",
    "        p =  \"\".join(random.sample(level2,lenght ))\n",
    "        print(p)\n",
    "    elif levelchoice =='level3':\n",
    "        p =  \"\".join(random.sample(level3,lenght ))\n",
    "        print(p)\n",
    "    elif levelchoice =='level4':\n",
    "        p =  \"\".join(random.sample(level4,lenght ))\n",
    "        print(p)\n",
    "    else:\n",
    "        print('Incorect variables')\n",
    "\n",
    "passgen()"
   ]
  }
 ],
 "metadata": {
  "kernelspec": {
   "display_name": "Python 3",
   "language": "python",
   "name": "python3"
  },
  "language_info": {
   "codemirror_mode": {
    "name": "ipython",
    "version": 3
   },
   "file_extension": ".py",
   "mimetype": "text/x-python",
   "name": "python",
   "nbconvert_exporter": "python",
   "pygments_lexer": "ipython3",
   "version": "3.6.5"
  }
 },
 "nbformat": 4,
 "nbformat_minor": 2
}
